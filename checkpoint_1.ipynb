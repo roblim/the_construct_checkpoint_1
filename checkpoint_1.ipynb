{
 "cells": [
  {
   "cell_type": "markdown",
   "metadata": {},
   "source": [
    "<div class=\"jumbotron\" style=\"background:WhiteSmoke\">\n",
    "  <br>\n",
    "    <hr style=\"text-align:center\">\n",
    "      <h1 class=\"title\" style=\"text-align:center;color:RoyalBlue\">Checkpoint 1</h1>\n",
    "      <h2 class=\"subtitle\" style=\"text-align:center;color:Black\">Introduction to Gazebo</h2>\n",
    "    <hr style=\"text-align:center\">\n",
    "  <br>\n",
    "</div>"
   ]
  },
  {
   "cell_type": "markdown",
   "metadata": {},
   "source": [
    "<h3><center><b><i>Welcome to your very first ROSject! [ROS + project = ROSject 😉]</i></b></center></h3>"
   ]
  },
  {
   "cell_type": "markdown",
   "metadata": {},
   "source": [
    "<div class=\"separator-primary\" style=\"height:1.6em;width:100%;background:LightGrey\">\n",
    "  <p class=\"separatortitle\" style=\"text-align:center;color:Black\"><b>- Summary -</b></p>\n",
    "</div>"
   ]
  },
  {
   "cell_type": "markdown",
   "metadata": {},
   "source": [
    "In this project, you will have to build a mobile robot simulation from zero.\n",
    "\n",
    "You will have to create the **URDF** of your robot, defining all the required links & joints.\n",
    "\n",
    "Once you have the body of your robot ready, you will add to it the required actuators and sensors. Then you will spawn the robot inside a **Gazebo** world in order to generate a robotics simulation."
   ]
  },
  {
   "cell_type": "markdown",
   "metadata": {},
   "source": [
    "<div class=\"separator-primary\" style=\"height:1.6em;width:100%;background:LightGrey\">\n",
    "  <p class=\"separatortitle\" style=\"text-align:center;color:Black\"><b>- End of Summary -</b></p>\n",
    "</div>"
   ]
  },
  {
   "cell_type": "markdown",
   "metadata": {},
   "source": [
    "<div class=\"separator-primary\" style=\"height:1.6em;width:100%;background:Tomato\">\n",
    "  <p class=\"separatortitle\" style=\"text-align:center;color:Black\"><b>- Important Notes -</b></p>\n",
    "</div>"
   ]
  },
  {
   "cell_type": "markdown",
   "metadata": {},
   "source": [
    "***Please follow the instructions carefully. Note that you will often encounter very specific instructions about naming, such as the name of the package, names of files, topic names to use, etc. Please be sure to use the exact names given to you in the instructions; otherwise, it will be challenging or even imposible for the team to correct the assignments. Failing to do so may result in points being deducted or your tasks being graded as incorrect.***\n",
    "\n",
    "***Using Git is mandatory for this project***. If you do not use **Git**, your assignment will not be reviewed, and you will need to redo the project using **Git**. Make a habit of committing your work daily or at least each time you complete one specific task. Also exercise writing clean meaningful commit messages that briefly describe the changes made in the commit. If you do not follow these instructions, it won't be possible for the team to correct some of the tasks.\n",
    "\n",
    "Stop. Take a deep breath.\n",
    "\n",
    "Grab a coffee!\n",
    "\n",
    "# ☕\n",
    "\n",
    "Read that again.\n",
    "\n",
    "### Git Setup\n",
    "\n",
    "Each time you want to use **Git** in this project enviroment, you need to set up a few things before you start:\n",
    "\n",
    "-  Define the User Name\n",
    "-  Define the User Email\n",
    "\n",
    "This is needed so that **Git** has information about the author of the changes. You do this with the following commands:\n",
    "\n",
    "- `git config --global user.name \"John Doe\"`\n",
    "- `git config --global user.email \"johndoe@example.com\"`"
   ]
  },
  {
   "cell_type": "markdown",
   "metadata": {},
   "source": [
    "### How to proceed with this project\n",
    "\n",
    "- You can consult the **Gazebo Basics** and **Git and Github** courses to review concepts and reutilize code.\n",
    "- You can consult the internet to search for additional information if needed.\n",
    "- Project tasks build upon one another so you should complete the tasks in the presented order."
   ]
  },
  {
   "cell_type": "markdown",
   "metadata": {},
   "source": [
    "<div class=\"separator-primary\" style=\"height:1.6em;width:100%;background:Tomato\">\n",
    "  <p class=\"separatortitle\" style=\"text-align:center;color:Black\"><b>- End of Important Notes -</b></p>\n",
    "</div>"
   ]
  },
  {
   "cell_type": "markdown",
   "metadata": {},
   "source": [
    "<div class=\"section\" style=\"height:1.8em;background:WhiteSmoke\">\n",
    "  <h2 class=\"section-title\" style=\"text-align:center\">\n",
    "    <span class=\"section-title-primary\" style=\"text-align:center;color:RoyalBlue\">Task 1</span>\n",
    "    &nbsp;&nbsp;&nbsp;\n",
    "    <span class=\"section-title-secondary\" style=\"text-align:center;color:Black\">Build RB1 URDF Replica</span>\n",
    "  </h2>\n",
    "</div>"
   ]
  },
  {
   "cell_type": "markdown",
   "metadata": {},
   "source": [
    "For **Task 1** of this project, you will put into practice what you've learned about **Gazebo** by creating a simple **URDF** file of a mobile robot. Find below the instructions that you need to do in order to complete it:"
   ]
  },
  {
   "cell_type": "markdown",
   "metadata": {},
   "source": [
    "1. Create a new local **Git** repository inside ***`catkin_ws`*** named ***`my_rb1_robot`***."
   ]
  },
  {
   "cell_type": "markdown",
   "metadata": {},
   "source": [
    "<div class=\"execute\" style=\"width:14.0em;height:1.5em;border-radius:0.8em;background:Silver\">\n",
    "  <p class=\"executetext\" style=\"text-align:center;color:Black\">\n",
    "    <i class=\"fa fa-terminal\" style=\"font-size:1.5em\"></i>\n",
    "    &nbsp;\n",
    "    <b>Execute in Terminal</b>\n",
    "  </p>\n",
    "</div>"
   ]
  },
  {
   "cell_type": "code",
   "execution_count": null,
   "metadata": {},
   "outputs": [],
   "source": [
    "mkdir ~/catkin_ws/src/my_rb1_robot\n",
    "cd ~/catkin_ws/src/my_rb1_robot\n",
    "git init"
   ]
  },
  {
   "cell_type": "markdown",
   "metadata": {},
   "source": [
    "2. Create a new **ROS** package inside ***`my_rb1_robot`*** named ***`my_rb1_description`*** with ***`rospy`***, ***`urdf`*** and ***`xacro`*** as dependencies.\n",
    "\n",
    "3. Inside this package, create a ***`urdf`*** folder. Inside this folder, create a file named ***`my_rb1_robot.urdf`***."
   ]
  },
  {
   "cell_type": "markdown",
   "metadata": {},
   "source": [
    "<div class=\"separator-primary\" style=\"height:1.6em;width:100%;background:LightBlue\">\n",
    "  <p class=\"separatortitle\" style=\"text-align:center;color:Black\"><b>- Notes -</b></p>\n",
    "</div>"
   ]
  },
  {
   "cell_type": "markdown",
   "metadata": {},
   "source": [
    "To sum up, you should now have the following folder structure:"
   ]
  },
  {
   "cell_type": "markdown",
   "metadata": {},
   "source": [
    "<pre style=\"color:White;background:Black;padding:0.8em;font-size:1.0em;font-family:'Courier New',monospace;\">\n",
    "catkin_ws/\n",
    "    src/\n",
    "        my_rb1_robot/\n",
    "            my_rb1_description/\n",
    "                CMakeLists.txt\n",
    "                package.xml\n",
    "                ...\n",
    "                urdf/\n",
    "                    my_rb1_robot.urdf\n",
    "</pre>"
   ]
  },
  {
   "cell_type": "markdown",
   "metadata": {},
   "source": [
    "<div class=\"separator-primary\" style=\"height:1.6em;width:100%;background:LightBlue\">\n",
    "  <p class=\"separatortitle\" style=\"text-align:center;color:Black\"><b>- End of Notes -</b></p>\n",
    "</div>"
   ]
  },
  {
   "cell_type": "markdown",
   "metadata": {},
   "source": [
    "4. Following what you learned in the course, fill out the **URDF** file to create a representation of the **RB1** robot, with the following description.\n",
    "\n",
    "   - The robot is a **cylinder** that is **50 cm** in diameter and **30 cm** in height.\n",
    "   - Has **two** drive wheels of **5 cm** diameter on each side of the base. One at `(0.0, -0.2, -0.15)` from the ***`base_link`*** and another at `(0.0, 0.2, -0.15)`.\n",
    "   - Has **two** caster wheels: one at the front and another at the back of the robot of **2.5 cm** radius. The friction parameters must be `0.0`. One at `(-0.1, 0.0, -0.15)` from the ***`base_link`*** and another at `(0.1, 0.0, -0.15)`."
   ]
  },
  {
   "cell_type": "markdown",
   "metadata": {},
   "source": [
    "<center><img src=\"images/cp1-basic.png\" width=\"500\"/></center>"
   ]
  },
  {
   "cell_type": "markdown",
   "metadata": {},
   "source": [
    "5. Check the following:\n",
    "   - Make sure that you include ***`visual`*** and ***`collision`*** tags for the ***`base_link`*** link as well as for all the wheels.\n",
    "   - The robot weighs **25 kg** in total, so reasonably distribute the weights for all the parts.\n",
    "   - Remember to compute the **moments of inertia** for all its parts. You can [use the following page](https://en.wikipedia.org/wiki/List_of_moments_of_inertia) to remind you the basic formulas of the moment of inertia."
   ]
  },
  {
   "cell_type": "markdown",
   "metadata": {},
   "source": [
    "6. Add the following links:\n",
    "   - ***`base_footprint`*** located at the geometric center of the bottom face of the base cylinder.\n",
    "   - ***`base_link`*** located at the geometric center of the base cylinder.\n",
    "   - ***`right_wheel`***\n",
    "   - ***`left_wheel`***\n",
    "   - ***`front_caster`***\n",
    "   - ***`back_caster`***\n",
    "   - ***`front_laser`*** link must be located at `(0.25, 0.0, 0.075)` from the ***`base_link`***. Also, the link must be rotated ***`180º`*** in the ***`x`*** axis, this means, the laser is upside-down. Provide reasonable dimensions and weight for the laser scanner, but keep the total weight of the robot to **25 kg**."
   ]
  },
  {
   "cell_type": "markdown",
   "metadata": {},
   "source": [
    "7. You will also need to create the corresponding joints for each one of the links above."
   ]
  },
  {
   "cell_type": "markdown",
   "metadata": {},
   "source": [
    "8. To visualize the robot, create a launch file (inside the ***`launch`*** folder) named ***`display.launch`***:\n",
    "   - Provide to the launch file the ***`my_rb1_robot.urdf`*** as a parameter\n",
    "   - Start in the launch file the following nodes:\n",
    "      - ***`joint_state_publisher_gui`***\n",
    "      - ***`robot_state_publisher`***\n",
    "      - ***`rviz`***\n",
    "        \n",
    "You should be able to visualize your robot in **RViz** after launching.\n",
    "\n",
    "**HINT:** To view the frames and links inside the robot, change the ***`Alpha`*** value in the ***`RobotModel`*** dropdown."
   ]
  },
  {
   "cell_type": "markdown",
   "metadata": {},
   "source": [
    "**Commit your work once you get the expected result**. Let me say that again, because it's important: commit your work to your **Git** repository before you continue beyond this point!\n",
    "\n",
    "***NOW, AFTER COMMITTING YOUR WORK, MARK THIS POINT IN YOUR PROJECT CREATING A GIT TAG***.\n",
    "\n",
    "**Git** tags are like checkpoint in the development history of your project. If you don't add these tags, the team may not be able to correct your work, and it probably won't be possible for the team to review and grade this part of your work.\n",
    "\n",
    "Proceed to create a **Git** tag called ***`task1`*** by using these commands here:"
   ]
  },
  {
   "cell_type": "markdown",
   "metadata": {},
   "source": [
    "<div class=\"execute\" style=\"width:14.0em;height:1.5em;border-radius:0.8em;background:Silver\">\n",
    "  <p class=\"executetext\" style=\"text-align:center;color:Black\">\n",
    "    <i class=\"fa fa-terminal\" style=\"font-size:1.5em\"></i>\n",
    "    &nbsp;\n",
    "    <b>Execute in Terminal</b>\n",
    "  </p>\n",
    "</div>"
   ]
  },
  {
   "cell_type": "code",
   "execution_count": null,
   "metadata": {},
   "outputs": [],
   "source": [
    "cd ~/catkin_ws/src/my_rb1_robot\n",
    "git tag task1"
   ]
  },
  {
   "cell_type": "markdown",
   "metadata": {},
   "source": [
    "<div class=\"separator-primary\" style=\"height:1.6em;width:100%;background:GoldenRod\">\n",
    "  <p class=\"separatortitle\" style=\"text-align:center;color:Black\"><b>- Grading Guide -</b></p>\n",
    "</div>"
   ]
  },
  {
   "cell_type": "markdown",
   "metadata": {},
   "source": [
    "Checkout the **Git** tag for **Task 1**:"
   ]
  },
  {
   "cell_type": "markdown",
   "metadata": {},
   "source": [
    "<div class=\"execute\" style=\"width:14.0em;height:1.5em;border-radius:0.8em;background:Silver\">\n",
    "  <p class=\"executetext\" style=\"text-align:center;color:Black\">\n",
    "    <i class=\"fa fa-terminal\" style=\"font-size:1.5em\"></i>\n",
    "    &nbsp;\n",
    "    <b>Execute in Terminal</b>\n",
    "  </p>\n",
    "</div>"
   ]
  },
  {
   "cell_type": "code",
   "execution_count": null,
   "metadata": {},
   "outputs": [],
   "source": [
    "cd ~/catkin_ws/src/my_rb1_robot\n",
    "git checkout task1"
   ]
  },
  {
   "cell_type": "markdown",
   "metadata": {},
   "source": [
    "**If this tag does not exist it is not possible to grade this part of the project.**"
   ]
  },
  {
   "cell_type": "markdown",
   "metadata": {},
   "source": [
    "- When the ***`display.launch`*** file is launched:\n",
    "   - All the robot links and **TF**s can be visualized properly - **1.75 points**\n",
    "   - The robot has proper dimensions for all the links - **1.0 point**"
   ]
  },
  {
   "cell_type": "markdown",
   "metadata": {},
   "source": [
    "<div class=\"execute\" style=\"width:14.0em;height:1.5em;border-radius:0.8em;background:Silver\">\n",
    "  <p class=\"executetext\" style=\"text-align:center;color:Black\">\n",
    "    <i class=\"fa fa-terminal\" style=\"font-size:1.5em\"></i>\n",
    "    &nbsp;\n",
    "    <b>Execute in Terminal</b>\n",
    "  </p>\n",
    "</div>"
   ]
  },
  {
   "cell_type": "code",
   "execution_count": null,
   "metadata": {},
   "outputs": [],
   "source": [
    "roslaunch my_rb1_description display.launch"
   ]
  },
  {
   "cell_type": "markdown",
   "metadata": {},
   "source": [
    "<center><img src=\"images/cp1-rviz-good.png\" width=\"750\"/></center>"
   ]
  },
  {
   "cell_type": "markdown",
   "metadata": {},
   "source": [
    "- After the ***`display.launch`*** file is launched, the drive wheel joints can be controlled using the ***`joint_state_publisher_gui`*** application - **0.75 points**"
   ]
  },
  {
   "cell_type": "markdown",
   "metadata": {},
   "source": [
    "<div class=\"execute\" style=\"width:14.0em;height:1.5em;border-radius:0.8em;background:Silver\">\n",
    "  <p class=\"executetext\" style=\"text-align:center;color:Black\">\n",
    "    <i class=\"fa fa-terminal\" style=\"font-size:1.5em\"></i>\n",
    "    &nbsp;\n",
    "    <b>Execute in Terminal</b>\n",
    "  </p>\n",
    "</div>"
   ]
  },
  {
   "cell_type": "code",
   "execution_count": null,
   "metadata": {},
   "outputs": [],
   "source": [
    "roslaunch my_rb1_description display.launch"
   ]
  },
  {
   "cell_type": "markdown",
   "metadata": {},
   "source": [
    "<center><img src=\"images/cp1-joints.gif\" width=\"750\"/></center>"
   ]
  },
  {
   "cell_type": "markdown",
   "metadata": {},
   "source": [
    "<div class=\"separator-primary\" style=\"height:1.6em;width:100%;background:GoldenRod\">\n",
    "  <p class=\"separatortitle\" style=\"text-align:center;color:Black\"><b>- End of Grading Guide -</b></p>\n",
    "</div>"
   ]
  },
  {
   "cell_type": "markdown",
   "metadata": {},
   "source": [
    "<div class=\"section\" style=\"height:1.8em;background:WhiteSmoke\">\n",
    "  <h2 class=\"section-title\" style=\"text-align:center\">\n",
    "    <span class=\"section-title-primary\" style=\"text-align:center;color:RoyalBlue\">Task 2</span>\n",
    "    &nbsp;&nbsp;&nbsp;\n",
    "    <span class=\"section-title-secondary\" style=\"text-align:center;color:Black\">Spawn the Robot into the Simulation</span>\n",
    "  </h2>\n",
    "</div>"
   ]
  },
  {
   "cell_type": "markdown",
   "metadata": {},
   "source": [
    "Now that the **URDF** is built, it can be used in **Gazebo**. For **Task 2**, you will spawn the robot inside a **Gazebo** world in order to generate a simple simulation.\n",
    "\n",
    "1. Create a new package in ***`my_rb1_robot`*** named ***`my_rb1_gazebo`***. This package will contain only a ***`launch`*** folder.\n",
    "\n",
    "\n",
    "2. Inside this ***`launch`*** folder, duplicate the ***`empty_warehouse.launch`*** file from the following location:\n",
    "\n",
    "***`/home/user/simulation_ws/src/warehouse_robot_lab/rb1_base_sim/rb1_base_gazebo/launch`***\n",
    "\n",
    "Name the new launch file as ***`my_rb1_robot_warehouse.launch`***.\n",
    "\n",
    "That file allows you to launch a simulation of the warehouse without any robot in it. You will have to modify it to include your robot.\n",
    "\n",
    "3. Add to the launch file your **URDF** file as a parameter.\n",
    "\n",
    "\n",
    "4. Add the ***`spawn_model`*** node from ***`gazebo_ros`***.\n",
    "\n",
    "\n",
    "5. Make sure to also launch the ***`robot_state_publisher`*** and ***`joint_state_publisher`*** nodes.\n",
    "    \n",
    "\n",
    "6. Launch the file using the following command. It should spawn your robot inside the warehouse world."
   ]
  },
  {
   "cell_type": "code",
   "execution_count": null,
   "metadata": {},
   "outputs": [],
   "source": [
    "roslaunch my_rb1_gazebo my_rb1_robot_warehouse.launch"
   ]
  },
  {
   "cell_type": "markdown",
   "metadata": {},
   "source": [
    "<div class=\"separator-primary\" style=\"height:1.6em;width:100%;background:LightBlue\">\n",
    "  <p class=\"separatortitle\" style=\"text-align:center;color:Black\"><b>- Notes -</b></p>\n",
    "</div>"
   ]
  },
  {
   "cell_type": "markdown",
   "metadata": {},
   "source": [
    "Make sure that the ***`ROS_PACKAGE_PATH`*** of the terminal you are launching includes both ***`catkin_ws`*** and ***`simulation_ws`***, otherwise the system won't find the needed packages:"
   ]
  },
  {
   "cell_type": "code",
   "execution_count": null,
   "metadata": {},
   "outputs": [],
   "source": [
    "export ROS_PACKAGE_PATH='/home/user/catkin_ws/src:/opt/ros/noetic/share:/home/user/simulation_ws/src'"
   ]
  },
  {
   "cell_type": "markdown",
   "metadata": {},
   "source": [
    "<div class=\"separator-primary\" style=\"height:1.6em;width:100%;background:LightBlue\">\n",
    "  <p class=\"separatortitle\" style=\"text-align:center;color:Black\"><b>- End of Notes -</b></p>\n",
    "</div>"
   ]
  },
  {
   "cell_type": "markdown",
   "metadata": {},
   "source": [
    "The result of your launch should be something like this:"
   ]
  },
  {
   "cell_type": "markdown",
   "metadata": {},
   "source": [
    "<center><img src=\"images/spawn_my_rb1.png\" width=\"750\"/></center>"
   ]
  },
  {
   "cell_type": "markdown",
   "metadata": {},
   "source": [
    "7. Now, change the spawning location of the robot to be in the middle of the ***starting position***, that is the squared area delimited by the yellow-and-white tape.\n",
    "\n",
    "\n",
    "8. Also, add the required ***gazebo color tags*** in order to make the robot body black. You can use any other color of your choice for other body parts such as wheels and laser scanner."
   ]
  },
  {
   "cell_type": "markdown",
   "metadata": {},
   "source": [
    "**Commit your work once you get the expected result**.\n",
    "\n",
    "**MARK THIS POINT IN YOUR PROJECT CREATING A GIT TAG**.\n",
    "\n",
    "Proceed to create a **Git** tag called ***`task2`*** by using these commands here:"
   ]
  },
  {
   "cell_type": "markdown",
   "metadata": {},
   "source": [
    "<div class=\"execute\" style=\"width:14.0em;height:1.5em;border-radius:0.8em;background:Silver\">\n",
    "  <p class=\"executetext\" style=\"text-align:center;color:Black\">\n",
    "    <i class=\"fa fa-terminal\" style=\"font-size:1.5em\"></i>\n",
    "    &nbsp;\n",
    "    <b>Execute in Terminal</b>\n",
    "  </p>\n",
    "</div>"
   ]
  },
  {
   "cell_type": "code",
   "execution_count": null,
   "metadata": {},
   "outputs": [],
   "source": [
    "cd ~/catkin_ws/src/my_rb1_robot\n",
    "git tag task2"
   ]
  },
  {
   "cell_type": "markdown",
   "metadata": {},
   "source": [
    "<div class=\"separator-primary\" style=\"height:1.6em;width:100%;background:GoldenRod\">\n",
    "  <p class=\"separatortitle\" style=\"text-align:center;color:Black\"><b>- Grading Guide -</b></p>\n",
    "</div>"
   ]
  },
  {
   "cell_type": "markdown",
   "metadata": {},
   "source": [
    "Checkout the **Git** tag for ***Task 2***:"
   ]
  },
  {
   "cell_type": "markdown",
   "metadata": {},
   "source": [
    "<div class=\"execute\" style=\"width:14.0em;height:1.5em;border-radius:0.8em;background:Silver\">\n",
    "  <p class=\"executetext\" style=\"text-align:center;color:Black\">\n",
    "    <i class=\"fa fa-terminal\" style=\"font-size:1.5em\"></i>\n",
    "    &nbsp;\n",
    "    <b>Execute in Terminal</b>\n",
    "  </p>\n",
    "</div>"
   ]
  },
  {
   "cell_type": "code",
   "execution_count": null,
   "metadata": {},
   "outputs": [],
   "source": [
    "cd ~/catkin_ws/src/my_rb1_robot\n",
    "git checkout task2"
   ]
  },
  {
   "cell_type": "markdown",
   "metadata": {},
   "source": [
    "**If this tag does not exist it is not possible to grade this part of the project.**"
   ]
  },
  {
   "cell_type": "markdown",
   "metadata": {},
   "source": [
    "- When the ***`my_rb1_robot_warehouse.launch`*** file is launched:\n",
    "\n",
    "   - The robot spawns with proper colors for its parts - **1.0 point**\n",
    "   - The robot spawns in the center of the yellow square - **0.5 points**\n",
    "   - The robot is stable and has no idle drift velocities - **1.0 point**"
   ]
  },
  {
   "cell_type": "markdown",
   "metadata": {},
   "source": [
    "<div class=\"execute\" style=\"width:14.0em;height:1.5em;border-radius:0.8em;background:Silver\">\n",
    "  <p class=\"executetext\" style=\"text-align:center;color:Black\">\n",
    "    <i class=\"fa fa-terminal\" style=\"font-size:1.5em\"></i>\n",
    "    &nbsp;\n",
    "    <b>Execute in Terminal</b>\n",
    "  </p>\n",
    "</div>"
   ]
  },
  {
   "cell_type": "code",
   "execution_count": null,
   "metadata": {},
   "outputs": [],
   "source": [
    "roslaunch my_rb1_gazebo my_rb1_robot_warehouse.launch"
   ]
  },
  {
   "cell_type": "markdown",
   "metadata": {},
   "source": [
    "<center><img src=\"images/spawn_black_rb1.png\" width=\"750\"/></center>"
   ]
  },
  {
   "cell_type": "markdown",
   "metadata": {},
   "source": [
    "<div class=\"separator-primary\" style=\"height:1.6em;width:100%;background:GoldenRod\">\n",
    "  <p class=\"separatortitle\" style=\"text-align:center;color:Black\"><b>- End of Grading Guide -</b></p>\n",
    "</div>"
   ]
  },
  {
   "cell_type": "markdown",
   "metadata": {},
   "source": [
    "<div class=\"section\" style=\"height:1.8em;background:WhiteSmoke\">\n",
    "  <h2 class=\"section-title\" style=\"text-align:center\">\n",
    "    <span class=\"section-title-primary\" style=\"text-align:center;color:RoyalBlue\">Task 3</span>\n",
    "    &nbsp;&nbsp;&nbsp;\n",
    "    <span class=\"section-title-secondary\" style=\"text-align:center;color:Black\">Add Sensor Plugins</span>\n",
    "  </h2>\n",
    "</div>"
   ]
  },
  {
   "cell_type": "markdown",
   "metadata": {},
   "source": [
    "Now that the model is in **Gazebo**, you will add the actuators and sensors to the robot in order for it to control the motors of the robot and perceive its surroundings.\n",
    "\n",
    "1. In ***`my_rb1_robot.urdf`*** you must add two plugins:\n",
    "   - ***`libgazebo_ros_diff_drive.so`*** from ***`differential_drive_controller`***\n",
    "      - Linked to the model's wheel joints\n",
    "      - Make sure to include the wheel separation and radius tags\n",
    "   - ***`libgazebo_ros_laser.so`*** from ***`gazebo_ros_head_hokuyo_controller`***\n",
    "      - Attached to ***`front_laser`*** link\n",
    "      - Publishing on topic ***`/scan`***\n",
    "\n",
    "2. Once the plugins are added, the model should be ready to start working. Check that you can move the robot with ***`/cmd_vel`*** and if you are able to see the ***`/scan`*** and ***`/odom`*** topics."
   ]
  },
  {
   "cell_type": "markdown",
   "metadata": {},
   "source": [
    "**Great!** You now have your own minimal version of the **RB1**."
   ]
  },
  {
   "cell_type": "markdown",
   "metadata": {},
   "source": [
    "**Commit your work once you get the expected result**.\n",
    "\n",
    "**MARK THIS POINT IN YOUR PROJECT CREATING A GIT TAG**.\n",
    "\n",
    "Proceed to create a **Git** tag called ***`task3`*** by using these commands here:"
   ]
  },
  {
   "cell_type": "markdown",
   "metadata": {},
   "source": [
    "<div class=\"execute\" style=\"width:14.0em;height:1.5em;border-radius:0.8em;background:Silver\">\n",
    "  <p class=\"executetext\" style=\"text-align:center;color:Black\">\n",
    "    <i class=\"fa fa-terminal\" style=\"font-size:1.5em\"></i>\n",
    "    &nbsp;\n",
    "    <b>Execute in Terminal</b>\n",
    "  </p>\n",
    "</div>"
   ]
  },
  {
   "cell_type": "code",
   "execution_count": null,
   "metadata": {},
   "outputs": [],
   "source": [
    "cd ~/catkin_ws/src/my_rb1_robot\n",
    "git tag task3"
   ]
  },
  {
   "cell_type": "markdown",
   "metadata": {},
   "source": [
    "<div class=\"separator-primary\" style=\"height:1.6em;width:100%;background:GoldenRod\">\n",
    "  <p class=\"separatortitle\" style=\"text-align:center;color:Black\"><b>- Grading Guide -</b></p>\n",
    "</div>"
   ]
  },
  {
   "cell_type": "markdown",
   "metadata": {},
   "source": [
    "Checkout the **Git** tag for ***Task 3***:"
   ]
  },
  {
   "cell_type": "markdown",
   "metadata": {},
   "source": [
    "<div class=\"execute\" style=\"width:14.0em;height:1.5em;border-radius:0.8em;background:Silver\">\n",
    "  <p class=\"executetext\" style=\"text-align:center;color:Black\">\n",
    "    <i class=\"fa fa-terminal\" style=\"font-size:1.5em\"></i>\n",
    "    &nbsp;\n",
    "    <b>Execute in Terminal</b>\n",
    "  </p>\n",
    "</div>"
   ]
  },
  {
   "cell_type": "code",
   "execution_count": null,
   "metadata": {},
   "outputs": [],
   "source": [
    "cd ~/catkin_ws/src/my_rb1_robot\n",
    "git checkout task3"
   ]
  },
  {
   "cell_type": "markdown",
   "metadata": {},
   "source": [
    "**If this tag does not exist it is not possible to grade this part of the project.**"
   ]
  },
  {
   "cell_type": "markdown",
   "metadata": {},
   "source": [
    "- When the ***`my_rb1_robot_warehouse.launch`*** file is launched:"
   ]
  },
  {
   "cell_type": "markdown",
   "metadata": {},
   "source": [
    "<div class=\"execute\" style=\"width:14.0em;height:1.5em;border-radius:0.8em;background:Silver\">\n",
    "  <p class=\"executetext\" style=\"text-align:center;color:Black\">\n",
    "    <i class=\"fa fa-terminal\" style=\"font-size:1.5em\"></i>\n",
    "    &nbsp;\n",
    "    <b>Execute in Terminal</b>\n",
    "  </p>\n",
    "</div>"
   ]
  },
  {
   "cell_type": "code",
   "execution_count": null,
   "metadata": {},
   "outputs": [],
   "source": [
    "roslaunch my_rb1_gazebo my_rb1_robot_warehouse.launch"
   ]
  },
  {
   "cell_type": "markdown",
   "metadata": {},
   "source": [
    "- The differential drive plugin is configured properly - **1.0 point**\n",
    "- The robot can be moved by sending velocities to the ***`/cmd_vel`*** topic - **1.0 point**"
   ]
  },
  {
   "cell_type": "markdown",
   "metadata": {},
   "source": [
    "<div class=\"execute\" style=\"width:14.0em;height:1.5em;border-radius:0.8em;background:Silver\">\n",
    "  <p class=\"executetext\" style=\"text-align:center;color:Black\">\n",
    "    <i class=\"fa fa-terminal\" style=\"font-size:1.5em\"></i>\n",
    "    &nbsp;\n",
    "    <b>Execute in Terminal</b>\n",
    "  </p>\n",
    "</div>"
   ]
  },
  {
   "cell_type": "code",
   "execution_count": null,
   "metadata": {},
   "outputs": [],
   "source": [
    "rostopic pub /cmd_vel geometry_msgs/Twist \"linear:\n",
    "  x: 0.2\n",
    "  y: 0.0\n",
    "  z: 0.0\n",
    "angular:\n",
    "  x: 0.0\n",
    "  y: 0.0\n",
    "  z: 0.0\""
   ]
  },
  {
   "cell_type": "markdown",
   "metadata": {},
   "source": [
    "- The laser scanner plugin is configured properly - **1.0 point**\n",
    "- The laser scan values can be read from ***`/scan`*** topic - **1.0 point**"
   ]
  },
  {
   "cell_type": "markdown",
   "metadata": {},
   "source": [
    "<div class=\"execute\" style=\"width:14.0em;height:1.5em;border-radius:0.8em;background:Silver\">\n",
    "  <p class=\"executetext\" style=\"text-align:center;color:Black\">\n",
    "    <i class=\"fa fa-terminal\" style=\"font-size:1.5em\"></i>\n",
    "    &nbsp;\n",
    "    <b>Execute in Terminal</b>\n",
    "  </p>\n",
    "</div>"
   ]
  },
  {
   "cell_type": "code",
   "execution_count": null,
   "metadata": {},
   "outputs": [],
   "source": [
    "rostopic echo /scan"
   ]
  },
  {
   "cell_type": "markdown",
   "metadata": {},
   "source": [
    "<center><img src=\"images/my_rb1_robot.gif\" width=\"750\"/></center>"
   ]
  },
  {
   "cell_type": "markdown",
   "metadata": {},
   "source": [
    "<div class=\"separator-primary\" style=\"height:1.6em;width:100%;background:GoldenRod\">\n",
    "  <p class=\"separatortitle\" style=\"text-align:center;color:Black\"><b>- End of Grading Guide -</b></p>\n",
    "</div>"
   ]
  },
  {
   "cell_type": "markdown",
   "metadata": {},
   "source": [
    "<div class=\"separator-primary\" style=\"height:1.6em;width:100%;background:Tomato\">\n",
    "  <p class=\"separatortitle\" style=\"text-align:center;color:Black\"><b>- Important Notes -</b></p>\n",
    "</div>"
   ]
  },
  {
   "cell_type": "markdown",
   "metadata": {},
   "source": [
    "Once you have finished with **Checkpoint 1** and everything is working as expected, **push your local repository to GitHub**. This is very important because you will need it for **Checkpoint 2**."
   ]
  },
  {
   "cell_type": "markdown",
   "metadata": {},
   "source": [
    "<div class=\"separator-primary\" style=\"height:1.6em;width:100%;background:Tomato\">\n",
    "  <p class=\"separatortitle\" style=\"text-align:center;color:Black\"><b>- End of Important Notes -</b></p>\n",
    "</div>"
   ]
  },
  {
   "cell_type": "markdown",
   "metadata": {},
   "source": [
    "<div class=\"separator-primary\" style=\"height:1.6em;width:100%;background:DarkGray\">\n",
    "  <p class=\"separatortitle\" style=\"text-align:center;color:Black\"><b>- End of Notebook -</b></p>\n",
    "</div>"
   ]
  }
 ],
 "metadata": {
  "anaconda-cloud": {},
  "kernelspec": {
   "display_name": "Python 2",
   "language": "python",
   "name": "python2"
  },
  "language_info": {
   "codemirror_mode": {
    "name": "ipython",
    "version": 2
   },
   "file_extension": ".py",
   "mimetype": "text/x-python",
   "name": "python",
   "nbconvert_exporter": "python",
   "pygments_lexer": "ipython2",
   "version": "2.7.16"
  }
 },
 "nbformat": 4,
 "nbformat_minor": 4
}
