{
 "cells": [
  {
   "cell_type": "markdown",
   "metadata": {},
   "source": [
    "<div class=\"jumbotron\" style=\"background:WhiteSmoke\">\n",
    "  <br>\n",
    "    <hr style=\"text-align:center\">\n",
    "      <h1 class=\"title\" style=\"text-align:center;color:RoyalBlue\">Checkpoint 2</h1>\n",
    "      <h2 class=\"subtitle\" style=\"text-align:center;color:Black\">Introduction to ROS</h2>\n",
    "    <hr style=\"text-align:center\">\n",
    "  <br>\n",
    "</div>"
   ]
  },
  {
   "cell_type": "markdown",
   "metadata": {},
   "source": [
    "<div class=\"separator-primary\" style=\"height:1.6em;width:100%;background:LightGrey\">\n",
    "  <p class=\"separatortitle\" style=\"text-align:center;color:Black\"><b>- Summary -</b></p>\n",
    "</div>"
   ]
  },
  {
   "cell_type": "markdown",
   "metadata": {},
   "source": [
    "For this project, you will create some a basic **ROS** node in order to add some interesting functionality to the **RB1** robot you created in **Checkpoint 1**. Therefore, in order to proceed with **Checkpoint 2** you must have previously finished **Checkpoint 1**.\n",
    "\n",
    "Having a functional **RB1** robot is already great. However, programming a robot can be challenging for inexperienced users. Therefore, the goal of this project is to provide an out of the box functionality for our robot, so that it can easily be used by inexperienced users."
   ]
  },
  {
   "cell_type": "markdown",
   "metadata": {},
   "source": [
    "<div class=\"separator-primary\" style=\"height:1.6em;width:100%;background:LightGrey\">\n",
    "  <p class=\"separatortitle\" style=\"text-align:center;color:Black\"><b>- End of Summary -</b></p>\n",
    "</div>"
   ]
  },
  {
   "cell_type": "markdown",
   "metadata": {},
   "source": [
    "<div class=\"separator-primary\" style=\"height:1.6em;width:100%;background:Tomato\">\n",
    "  <p class=\"separatortitle\" style=\"text-align:center;color:Black\"><b>- Important Notes -</b></p>\n",
    "</div>"
   ]
  },
  {
   "cell_type": "markdown",
   "metadata": {},
   "source": [
    "As already mentioned, in order to proceed with this Checkpoint you **must have correctly finished Checkpoint 1**. So, the first thing you have to do is to download the repository you created in **Checkpoint 1**, which contains the packages for launching the **RB1** simulation. Download the repository inside your ***`~/catkin_ws/src`*** directory."
   ]
  },
  {
   "cell_type": "markdown",
   "metadata": {},
   "source": [
    "<div class=\"execute\" style=\"width:14.0em;height:1.5em;border-radius:0.8em;background:Silver\">\n",
    "  <p class=\"executetext\" style=\"text-align:center;color:Black\">\n",
    "    <i class=\"fa fa-terminal\" style=\"font-size:1.5em\"></i>\n",
    "    &nbsp;\n",
    "    <b>Execute in Terminal</b>\n",
    "  </p>\n",
    "</div>"
   ]
  },
  {
   "cell_type": "code",
   "execution_count": null,
   "metadata": {},
   "outputs": [],
   "source": [
    "cd ~/catkin_ws/src\n",
    "git clone <your_repository_name>"
   ]
  },
  {
   "cell_type": "markdown",
   "metadata": {},
   "source": [
    "Once you have downloaded your repository, compile the packages and make sure you can launch the **RB1** simulation:"
   ]
  },
  {
   "cell_type": "markdown",
   "metadata": {},
   "source": [
    "<div class=\"execute\" style=\"width:14.0em;height:1.5em;border-radius:0.8em;background:Silver\">\n",
    "  <p class=\"executetext\" style=\"text-align:center;color:Black\">\n",
    "    <i class=\"fa fa-terminal\" style=\"font-size:1.5em\"></i>\n",
    "    &nbsp;\n",
    "    <b>Execute in Terminal</b>\n",
    "  </p>\n",
    "</div>"
   ]
  },
  {
   "cell_type": "code",
   "execution_count": null,
   "metadata": {},
   "outputs": [],
   "source": [
    "cd ~/catkin_ws\n",
    "catkin_make\n",
    "source ~/catkin_ws/devel/setup.bash"
   ]
  },
  {
   "cell_type": "markdown",
   "metadata": {},
   "source": [
    "<div class=\"execute\" style=\"width:14.0em;height:1.5em;border-radius:0.8em;background:Silver\">\n",
    "  <p class=\"executetext\" style=\"text-align:center;color:Black\">\n",
    "    <i class=\"fa fa-terminal\" style=\"font-size:1.5em\"></i>\n",
    "    &nbsp;\n",
    "    <b>Execute in Terminal</b>\n",
    "  </p>\n",
    "</div>"
   ]
  },
  {
   "cell_type": "code",
   "execution_count": null,
   "metadata": {},
   "outputs": [],
   "source": [
    "roslaunch my_rb1_gazebo my_rb1_robot_warehouse.launch"
   ]
  },
  {
   "cell_type": "markdown",
   "metadata": {},
   "source": [
    "<div class=\"separator-primary\" style=\"height:1.6em;width:100%;background:Tomato\">\n",
    "  <p class=\"separatortitle\" style=\"text-align:center;color:Black\"><b>- End of Important Notes -</b></p>\n",
    "</div>"
   ]
  },
  {
   "cell_type": "markdown",
   "metadata": {},
   "source": [
    "<div class=\"section\" style=\"height:1.8em;background:WhiteSmoke\">\n",
    "  <h2 class=\"section-title\" style=\"text-align:center\">\n",
    "    <span class=\"section-title-primary\" style=\"text-align:center;color:RoyalBlue\">Task 1</span>\n",
    "    &nbsp;&nbsp;&nbsp;\n",
    "    <span class=\"section-title-secondary\" style=\"text-align:center;color:Black\">Control the RB1 Robot with ROS</span>\n",
    "  </h2>\n",
    "</div>"
   ]
  },
  {
   "cell_type": "markdown",
   "metadata": {},
   "source": [
    "Now that the robot has its sensors and actuators working, it's time to control it with **ROS**! For this Task, you will create a simple **ROS** ***Service*** for your robot in order to provide a nice functionality to end users.\n",
    "\n",
    "You will create a ***ROS Service*** that allows users to rotate the robot for a specific number of ***degrees***.\n",
    "\n",
    "1. Inside ***`my_rb1_robot`***, create a new **ROS** package named ***`my_rb1_ros`***.\n",
    "    \n",
    "2. Inside the new package, create a new **Python** script named ***`rotate_service.py`***.\n",
    "\n",
    "3. The **Python** program will contain a **ROS** node that provides a ***ROS Service*** named ***`/rotate_robot`***. This service will make the robot rotate for a specific number of ***degrees*** (defined by the user).\n",
    "\n",
    "4. Rotation must be based on the robot's frame, not the world frame (check Notes below)."
   ]
  },
  {
   "cell_type": "markdown",
   "metadata": {},
   "source": [
    "5. The service will use a ***custom message*** named ***`Rotate.srv`***. This message will contain the following:\n",
    "   - A ***request*** that contains an **integer** field, named ***`degrees`***, to specify the number of degrees to rotate.\n",
    "   - A ***response*** that contains an **string** field, named ***`result`***, that specifies if the rotation has been completed successfully or not."
   ]
  },
  {
   "cell_type": "markdown",
   "metadata": {},
   "source": [
    "6. Use the Odometry data from the ***`/odom`*** topic in order to compute the rotation of the robot.\n",
    "\n",
    "7. Create a launch file named ***`rotate_service.launch`*** that starts your service server."
   ]
  },
  {
   "cell_type": "markdown",
   "metadata": {},
   "source": [
    "**Once your program is working as expected, create a new branch in your repository named *`checkpoint2`* and commit/push your code there.**"
   ]
  },
  {
   "cell_type": "markdown",
   "metadata": {},
   "source": [
    "<div class=\"separator-primary\" style=\"height:1.6em;width:100%;background:LightBlue\">\n",
    "  <p class=\"separatortitle\" style=\"text-align:center;color:Black\"><b>- Notes -</b></p>\n",
    "</div>"
   ]
  },
  {
   "cell_type": "markdown",
   "metadata": {},
   "source": [
    "The rotation angles are defined as indicated in the below images.\n",
    "\n",
    "If the robot starts from the starting position, a ***`90º`*** degrees rotation (based on the robot's frame) would be as follows:"
   ]
  },
  {
   "cell_type": "markdown",
   "metadata": {},
   "source": [
    "<center><img src=\"images/rotate-frame1.png\" width=\"500\"/></center>"
   ]
  },
  {
   "cell_type": "markdown",
   "metadata": {},
   "source": [
    "If the robot completes a rotation of ***`-90º`***, the new rotational angles would be defined as follows:"
   ]
  },
  {
   "cell_type": "markdown",
   "metadata": {},
   "source": [
    "<center><img src=\"images/rotate-frame2.png\" width=\"500\"/></center>"
   ]
  },
  {
   "cell_type": "markdown",
   "metadata": {},
   "source": [
    "<div class=\"separator-primary\" style=\"height:1.6em;width:100%;background:LightBlue\">\n",
    "  <p class=\"separatortitle\" style=\"text-align:center;color:Black\"><b>- End of Notes -</b></p>\n",
    "</div>"
   ]
  },
  {
   "cell_type": "markdown",
   "metadata": {},
   "source": [
    "<div class=\"separator-primary\" style=\"height:1.6em;width:100%;background:GoldenRod\">\n",
    "  <p class=\"separatortitle\" style=\"text-align:center;color:Black\"><b>- Grading Guide -</b></p>\n",
    "</div>"
   ]
  },
  {
   "cell_type": "markdown",
   "metadata": {},
   "source": [
    "Checkout the **Git** branch for ***Checkpoint 2***:"
   ]
  },
  {
   "cell_type": "markdown",
   "metadata": {},
   "source": [
    "<div class=\"execute\" style=\"width:14.0em;height:1.5em;border-radius:0.8em;background:Silver\">\n",
    "  <p class=\"executetext\" style=\"text-align:center;color:Black\">\n",
    "    <i class=\"fa fa-terminal\" style=\"font-size:1.5em\"></i>\n",
    "    &nbsp;\n",
    "    <b>Execute in Terminal</b>\n",
    "  </p>\n",
    "</div>"
   ]
  },
  {
   "cell_type": "code",
   "execution_count": null,
   "metadata": {},
   "outputs": [],
   "source": [
    "cd ~/catkin_ws/src/my_rb1_robot\n",
    "git checkout checkpoint2"
   ]
  },
  {
   "cell_type": "markdown",
   "metadata": {},
   "source": [
    "**If this branch does not exist it is not possible to grade this part of the project.**"
   ]
  },
  {
   "cell_type": "markdown",
   "metadata": {},
   "source": [
    "-  Launch the simulation with the following command:"
   ]
  },
  {
   "cell_type": "markdown",
   "metadata": {},
   "source": [
    "<div class=\"execute\" style=\"width:14.0em;height:1.5em;border-radius:0.8em;background:Silver\">\n",
    "  <p class=\"executetext\" style=\"text-align:center;color:Black\">\n",
    "    <i class=\"fa fa-terminal\" style=\"font-size:1.5em\"></i>\n",
    "    &nbsp;\n",
    "    <b>Execute in Terminal</b>\n",
    "  </p>\n",
    "</div>"
   ]
  },
  {
   "cell_type": "code",
   "execution_count": null,
   "metadata": {},
   "outputs": [],
   "source": [
    "roslaunch my_rb1_gazebo my_rb1_robot_warehouse.launch"
   ]
  },
  {
   "cell_type": "markdown",
   "metadata": {},
   "source": [
    "- The ***`/rotate_robot`*** service can be found on the list of **ROS** services - **1.0 point**\n",
    "\n",
    "- The ***`/rotate_robot`*** service can be called from another terminal by specifying the amount of degrees to rotate - **1.0 point**\n",
    "\n",
    "- The robot has no idle drift velocities and is stable during rotation  - **1.0 point**\n",
    "\n",
    "- The implemented service program algorithm is complete - **1.0 point**\n",
    "\n",
    "- The service can be called multiple times, one after another - **1.0 point**\n",
    "\n",
    "- The service server displays ***`Service Ready`***, ***`Service Requested`*** and ***`Service Completed`*** messages (with minimal debug messages) - **1.0 point**\n",
    "\n",
    "- The robot correctly reaches the requested angle in degrees within a reasonable time and with controlled speed - **1.0 point**\n",
    "\n",
    "- The service program properly uses the Odometry data from ***`/odom`*** topic to perform the rotation - **1.0 point**\n",
    "\n",
    "- The robot can correctly rotate the requested rotation angle from different starting positions - **1.0 point**\n",
    "\n",
    "- When the rotation service completes, the service returns a meaningful success or failure message - **1.0 point**"
   ]
  },
  {
   "cell_type": "markdown",
   "metadata": {},
   "source": [
    "<div class=\"execute\" style=\"width:14.0em;height:1.5em;border-radius:0.8em;background:Silver\">\n",
    "  <p class=\"executetext\" style=\"text-align:center;color:Black\">\n",
    "    <i class=\"fa fa-terminal\" style=\"font-size:1.5em\"></i>\n",
    "    &nbsp;\n",
    "    <b>Execute in Terminal</b>\n",
    "  </p>\n",
    "</div>"
   ]
  },
  {
   "cell_type": "code",
   "execution_count": null,
   "metadata": {},
   "outputs": [],
   "source": [
    "roslaunch my_rb1_ros rotate_service.launch"
   ]
  },
  {
   "cell_type": "markdown",
   "metadata": {},
   "source": [
    "<div class=\"execute\" style=\"width:14.0em;height:1.5em;border-radius:0.8em;background:Silver\">\n",
    "  <p class=\"executetext\" style=\"text-align:center;color:Black\">\n",
    "    <i class=\"fa fa-terminal\" style=\"font-size:1.5em\"></i>\n",
    "    &nbsp;\n",
    "    <b>Execute in Terminal</b>\n",
    "  </p>\n",
    "</div>"
   ]
  },
  {
   "cell_type": "code",
   "execution_count": null,
   "metadata": {},
   "outputs": [],
   "source": [
    "rosservice call /rotate_robot \"degrees: -90\""
   ]
  },
  {
   "cell_type": "markdown",
   "metadata": {},
   "source": [
    "<center><img src=\"images/rotate-expected.gif\" width=\"750\"/></center>"
   ]
  },
  {
   "cell_type": "markdown",
   "metadata": {},
   "source": [
    "<div class=\"execute\" style=\"width:14.0em;height:1.5em;border-radius:0.8em;background:Silver\">\n",
    "  <p class=\"executetext\" style=\"text-align:center;color:Black\">\n",
    "    <i class=\"fa fa-terminal\" style=\"font-size:1.5em\"></i>\n",
    "    &nbsp;\n",
    "    <b>Execute in Terminal</b>\n",
    "  </p>\n",
    "</div>"
   ]
  },
  {
   "cell_type": "code",
   "execution_count": null,
   "metadata": {},
   "outputs": [],
   "source": [
    "rosservice call /rotate_robot \"degrees: -90\""
   ]
  },
  {
   "cell_type": "markdown",
   "metadata": {},
   "source": [
    "<center><img src=\"images/rotate2.gif\" width=\"500\"/></center>"
   ]
  },
  {
   "cell_type": "markdown",
   "metadata": {},
   "source": [
    "<div class=\"separator-primary\" style=\"height:1.6em;width:100%;background:GoldenRod\">\n",
    "  <p class=\"separatortitle\" style=\"text-align:center;color:Black\"><b>- End of Grading Guide -</b></p>\n",
    "</div>"
   ]
  },
  {
   "cell_type": "markdown",
   "metadata": {},
   "source": [
    "<div class=\"separator-primary\" style=\"height:1.6em;width:100%;background:DarkGray\">\n",
    "  <p class=\"separatortitle\" style=\"text-align:center;color:Black\"><b>- End of Notebook -</b></p>\n",
    "</div>"
   ]
  }
 ],
 "metadata": {
  "anaconda-cloud": {},
  "kernelspec": {
   "display_name": "Python 2",
   "language": "python",
   "name": "python2"
  },
  "language_info": {
   "codemirror_mode": {
    "name": "ipython",
    "version": 2
   },
   "file_extension": ".py",
   "mimetype": "text/x-python",
   "name": "python",
   "nbconvert_exporter": "python",
   "pygments_lexer": "ipython2",
   "version": "2.7.16"
  }
 },
 "nbformat": 4,
 "nbformat_minor": 4
}
